{
 "cells": [
  {
   "cell_type": "markdown",
   "id": "d073cf56",
   "metadata": {},
   "source": [
    "# 🏁 01b – Baseline Model: Grid Position Rule with Versioned Output"
   ]
  },
  {
   "cell_type": "markdown",
   "id": "6facde99",
   "metadata": {},
   "source": [
    "## 🎯 Objective\n",
    "Establish a rule-based baseline for podium prediction:\n",
    "> Predict podium = `True` if grid position ≤ 3; otherwise, `False`.\n",
    "\n",
    "Automatically saves results to versioned folders for `v0_1_0`."
   ]
  },
  {
   "cell_type": "code",
   "execution_count": null,
   "id": "5a590467",
   "metadata": {},
   "outputs": [],
   "source": [
    "# 📁 Setup paths for versioned output\n",
    "import os\n",
    "version = 'v0_1_0'\n",
    "os.makedirs(f'models/{version}', exist_ok=True)\n",
    "os.makedirs(f'reports/{version}', exist_ok=True)"
   ]
  },
  {
   "cell_type": "code",
   "execution_count": null,
   "id": "f5f05b7e",
   "metadata": {},
   "outputs": [],
   "source": [
    "# 🧪 Create mock data for a single race\n",
    "import pandas as pd\n",
    "import numpy as np\n",
    "\n",
    "np.random.seed(42)\n",
    "drivers = [f'Driver_{i+1}' for i in range(20)]\n",
    "grid_positions = list(range(1, 21))\n",
    "true_podium = [1 if i < 3 else 0 for i in np.random.permutation(20)]\n",
    "\n",
    "df = pd.DataFrame({\n",
    "    'Driver': drivers,\n",
    "    'GridPosition': grid_positions,\n",
    "    'TruePodium': true_podium\n",
    "})\n",
    "df.head()"
   ]
  },
  {
   "cell_type": "code",
   "execution_count": null,
   "id": "28e626d2",
   "metadata": {},
   "outputs": [],
   "source": [
    "# 🚦 Apply baseline rule\n",
    "df['BaselinePrediction'] = (df['GridPosition'] <= 3).astype(int)\n",
    "df"
   ]
  },
  {
   "cell_type": "code",
   "execution_count": null,
   "id": "9a25afd7",
   "metadata": {},
   "outputs": [],
   "source": [
    "# 📈 Evaluate performance\n",
    "from sklearn.metrics import precision_score, f1_score, accuracy_score\n",
    "import json\n",
    "\n",
    "precision = precision_score(df['TruePodium'], df['BaselinePrediction'])\n",
    "f1 = f1_score(df['TruePodium'], df['BaselinePrediction'])\n",
    "accuracy = accuracy_score(df['TruePodium'], df['BaselinePrediction'])\n",
    "\n",
    "metrics = {\n",
    "    'precision': round(precision, 4),\n",
    "    'f1_score': round(f1, 4),\n",
    "    'accuracy': round(accuracy, 4)\n",
    "}\n",
    "print(metrics)\n",
    "\n",
    "# Save metrics\n",
    "with open(f'reports/{version}/baseline_metrics.json', 'w') as f:\n",
    "    json.dump(metrics, f, indent=4)"
   ]
  },
  {
   "cell_type": "markdown",
   "id": "b05d358f",
   "metadata": {},
   "source": [
    "## ✅ Output Saved\n",
    "- `reports/v0_1_0/baseline_metrics.json`\n",
    "- No model object saved (rule-based, no training needed)"
   ]
  }
 ],
 "metadata": {},
 "nbformat": 4,
 "nbformat_minor": 5
}
