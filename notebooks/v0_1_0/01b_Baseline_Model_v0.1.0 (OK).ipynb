{
 "cells": [
  {
   "cell_type": "markdown",
   "id": "1557e41a",
   "metadata": {},
   "source": [
    "# 🏁 Baseline Model – F1 Podium Predictor (v0.1.0)\n",
    "This notebook implements a simple rule-based model: if a driver's GridPosition ≤ 3, predict they will finish on the podium.\n"
   ]
  },
  {
   "cell_type": "code",
   "execution_count": 2,
   "id": "a4505c42",
   "metadata": {},
   "outputs": [],
   "source": [
    "# 📦 Imports\n",
    "import pandas as pd\n",
    "import json\n",
    "from sklearn.metrics import accuracy_score, f1_score, precision_score, recall_score\n"
   ]
  },
  {
   "cell_type": "code",
   "execution_count": 3,
   "id": "e1907617",
   "metadata": {},
   "outputs": [
    {
     "name": "stdout",
     "output_type": "stream",
     "text": [
      "📥 Input:  c:\\Users\\Mantas\\Documents\\GitHub\\f1-podium-predictor\\data\\processed\\v0_1_0\\baseline_input.csv\n",
      "📤 Output: c:\\Users\\Mantas\\Documents\\GitHub\\f1-podium-predictor\\reports\\v0_1_0\\baseline_metrics.json\n"
     ]
    }
   ],
   "source": [
    "# 📁 Define Project Paths (Safe & Centralized)\n",
    "import os\n",
    "\n",
    "# Project root (2 levels up from /notebooks/v0_1_0/)\n",
    "BASE_DIR = os.path.abspath(os.path.join(os.getcwd(), '..', '..'))\n",
    "\n",
    "# Input/Output Paths\n",
    "INPUT_PATH = os.path.join(BASE_DIR, 'data', 'processed', 'v0_1_0', 'baseline_input.csv')\n",
    "OUTPUT_PATH = os.path.join(BASE_DIR, 'reports', 'v0_1_0', 'baseline_metrics.json')\n",
    "\n",
    "# Create output folder if missing\n",
    "os.makedirs(os.path.dirname(OUTPUT_PATH), exist_ok=True)\n",
    "print(f'📥 Input:  {INPUT_PATH}')\n",
    "print(f'📤 Output: {OUTPUT_PATH}')\n"
   ]
  },
  {
   "cell_type": "code",
   "execution_count": 4,
   "id": "8a4af86d",
   "metadata": {},
   "outputs": [
    {
     "data": {
      "text/html": [
       "<div>\n",
       "<style scoped>\n",
       "    .dataframe tbody tr th:only-of-type {\n",
       "        vertical-align: middle;\n",
       "    }\n",
       "\n",
       "    .dataframe tbody tr th {\n",
       "        vertical-align: top;\n",
       "    }\n",
       "\n",
       "    .dataframe thead th {\n",
       "        text-align: right;\n",
       "    }\n",
       "</style>\n",
       "<table border=\"1\" class=\"dataframe\">\n",
       "  <thead>\n",
       "    <tr style=\"text-align: right;\">\n",
       "      <th></th>\n",
       "      <th>Driver</th>\n",
       "      <th>GridPosition</th>\n",
       "      <th>Podium</th>\n",
       "    </tr>\n",
       "  </thead>\n",
       "  <tbody>\n",
       "    <tr>\n",
       "      <th>0</th>\n",
       "      <td>Hamilton</td>\n",
       "      <td>1</td>\n",
       "      <td>1</td>\n",
       "    </tr>\n",
       "    <tr>\n",
       "      <th>1</th>\n",
       "      <td>Verstappen</td>\n",
       "      <td>4</td>\n",
       "      <td>0</td>\n",
       "    </tr>\n",
       "    <tr>\n",
       "      <th>2</th>\n",
       "      <td>Leclerc</td>\n",
       "      <td>2</td>\n",
       "      <td>1</td>\n",
       "    </tr>\n",
       "    <tr>\n",
       "      <th>3</th>\n",
       "      <td>Perez</td>\n",
       "      <td>7</td>\n",
       "      <td>0</td>\n",
       "    </tr>\n",
       "    <tr>\n",
       "      <th>4</th>\n",
       "      <td>Sainz</td>\n",
       "      <td>3</td>\n",
       "      <td>1</td>\n",
       "    </tr>\n",
       "  </tbody>\n",
       "</table>\n",
       "</div>"
      ],
      "text/plain": [
       "       Driver  GridPosition  Podium\n",
       "0    Hamilton             1       1\n",
       "1  Verstappen             4       0\n",
       "2     Leclerc             2       1\n",
       "3       Perez             7       0\n",
       "4       Sainz             3       1"
      ]
     },
     "execution_count": 4,
     "metadata": {},
     "output_type": "execute_result"
    }
   ],
   "source": [
    "# 📂 Load Data from Centralized Path\n",
    "data = pd.read_csv(INPUT_PATH)\n",
    "data.head()\n"
   ]
  },
  {
   "cell_type": "code",
   "execution_count": 5,
   "id": "f671d077",
   "metadata": {},
   "outputs": [
    {
     "data": {
      "text/html": [
       "<div>\n",
       "<style scoped>\n",
       "    .dataframe tbody tr th:only-of-type {\n",
       "        vertical-align: middle;\n",
       "    }\n",
       "\n",
       "    .dataframe tbody tr th {\n",
       "        vertical-align: top;\n",
       "    }\n",
       "\n",
       "    .dataframe thead th {\n",
       "        text-align: right;\n",
       "    }\n",
       "</style>\n",
       "<table border=\"1\" class=\"dataframe\">\n",
       "  <thead>\n",
       "    <tr style=\"text-align: right;\">\n",
       "      <th></th>\n",
       "      <th>Driver</th>\n",
       "      <th>GridPosition</th>\n",
       "      <th>Podium</th>\n",
       "      <th>PredictedPodium</th>\n",
       "    </tr>\n",
       "  </thead>\n",
       "  <tbody>\n",
       "    <tr>\n",
       "      <th>0</th>\n",
       "      <td>Hamilton</td>\n",
       "      <td>1</td>\n",
       "      <td>1</td>\n",
       "      <td>1</td>\n",
       "    </tr>\n",
       "    <tr>\n",
       "      <th>1</th>\n",
       "      <td>Verstappen</td>\n",
       "      <td>4</td>\n",
       "      <td>0</td>\n",
       "      <td>0</td>\n",
       "    </tr>\n",
       "    <tr>\n",
       "      <th>2</th>\n",
       "      <td>Leclerc</td>\n",
       "      <td>2</td>\n",
       "      <td>1</td>\n",
       "      <td>1</td>\n",
       "    </tr>\n",
       "    <tr>\n",
       "      <th>3</th>\n",
       "      <td>Perez</td>\n",
       "      <td>7</td>\n",
       "      <td>0</td>\n",
       "      <td>0</td>\n",
       "    </tr>\n",
       "    <tr>\n",
       "      <th>4</th>\n",
       "      <td>Sainz</td>\n",
       "      <td>3</td>\n",
       "      <td>1</td>\n",
       "      <td>1</td>\n",
       "    </tr>\n",
       "    <tr>\n",
       "      <th>5</th>\n",
       "      <td>Russell</td>\n",
       "      <td>6</td>\n",
       "      <td>0</td>\n",
       "      <td>0</td>\n",
       "    </tr>\n",
       "  </tbody>\n",
       "</table>\n",
       "</div>"
      ],
      "text/plain": [
       "       Driver  GridPosition  Podium  PredictedPodium\n",
       "0    Hamilton             1       1                1\n",
       "1  Verstappen             4       0                0\n",
       "2     Leclerc             2       1                1\n",
       "3       Perez             7       0                0\n",
       "4       Sainz             3       1                1\n",
       "5     Russell             6       0                0"
      ]
     },
     "execution_count": 5,
     "metadata": {},
     "output_type": "execute_result"
    }
   ],
   "source": [
    "# 🧠 Rule-Based Prediction\n",
    "\n",
    "data['PredictedPodium'] = data['GridPosition'].apply(lambda x: 1 if x <= 3 else 0)\n",
    "data\n"
   ]
  },
  {
   "cell_type": "code",
   "execution_count": 6,
   "id": "adb95f87",
   "metadata": {},
   "outputs": [
    {
     "name": "stdout",
     "output_type": "stream",
     "text": [
      "Accuracy: 1.00\n",
      "F1 Score: 1.00\n",
      "Precision@3: 1.00\n",
      "Recall: 1.00\n"
     ]
    }
   ],
   "source": [
    "# 📊 Evaluation\n",
    "accuracy = accuracy_score(data['Podium'], data['PredictedPodium'])\n",
    "f1 = f1_score(data['Podium'], data['PredictedPodium'])\n",
    "precision = precision_score(data['Podium'], data['PredictedPodium'])\n",
    "recall = recall_score(data['Podium'], data['PredictedPodium'])\n",
    "\n",
    "print(f\"Accuracy: {accuracy:.2f}\")\n",
    "print(f\"F1 Score: {f1:.2f}\")\n",
    "print(f\"Precision@3: {precision:.2f}\")\n",
    "print(f\"Recall: {recall:.2f}\")\n"
   ]
  },
  {
   "cell_type": "code",
   "execution_count": 7,
   "id": "c5e6b08c",
   "metadata": {},
   "outputs": [
    {
     "name": "stdout",
     "output_type": "stream",
     "text": [
      "✅ Metrics saved to c:\\Users\\Mantas\\Documents\\GitHub\\f1-podium-predictor\\reports\\v0_1_0\\baseline_metrics.json\n"
     ]
    }
   ],
   "source": [
    "# 💾 Save Results to JSON\n",
    "with open(OUTPUT_PATH, 'w') as f:\n",
    "    json.dump({\n",
    "        'accuracy': round(accuracy, 4),\n",
    "        'f1_score': round(f1, 4),\n",
    "        'precision@3': round(precision, 4),\n",
    "        'recall': round(recall, 4)\n",
    "    }, f, indent=4)\n",
    "\n",
    "print(f'✅ Metrics saved to {OUTPUT_PATH}')\n"
   ]
  }
 ],
 "metadata": {
  "kernelspec": {
   "display_name": "portfolio_env",
   "language": "python",
   "name": "python3"
  },
  "language_info": {
   "codemirror_mode": {
    "name": "ipython",
    "version": 3
   },
   "file_extension": ".py",
   "mimetype": "text/x-python",
   "name": "python",
   "nbconvert_exporter": "python",
   "pygments_lexer": "ipython3",
   "version": "3.11.11"
  }
 },
 "nbformat": 4,
 "nbformat_minor": 5
}
