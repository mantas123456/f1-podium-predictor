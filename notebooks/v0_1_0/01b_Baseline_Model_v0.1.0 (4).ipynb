{
 "cells": [
  {
   "cell_type": "markdown",
   "id": "1557e41a",
   "metadata": {},
   "source": [
    "# 🏁 Baseline Model – F1 Podium Predictor (v0.1.0)\n",
    "This notebook implements a simple rule-based model: if a driver's GridPosition ≤ 3, predict they will finish on the podium."
   ]
  },
  {
   "cell_type": "code",
   "execution_count": null,
   "id": "a4505c42",
   "metadata": {},
   "outputs": [],
   "source": [
    "# 📦 Imports\n",
    "import pandas as pd\n",
    "import json\n",
    "from sklearn.metrics import accuracy_score, f1_score, precision_score, recall_score"
   ]
  },
  {
   "cell_type": "code",
   "execution_count": null,
   "id": "e1907617",
   "metadata": {},
   "outputs": [],
   "source": [
    "# 📂 Load Data from Processed Folder (Phase 1 input)\n",
    "import pandas as pd\n",
    "\n",
    "data = pd.read_csv('../data/processed/v0_1_0/baseline_input.csv')\n",
    "data.head()"
   ]
  },
  {
   "cell_type": "code",
   "execution_count": null,
   "id": "8a4af86d",
   "metadata": {},
   "outputs": [],
   "source": [
    "# 🧠 Rule-Based Prediction\n",
    "\n",
    "data['PredictedPodium'] = data['GridPosition'].apply(lambda x: 1 if x <= 3 else 0)\n",
    "data"
   ]
  },
  {
   "cell_type": "code",
   "execution_count": null,
   "id": "f671d077",
   "metadata": {},
   "outputs": [],
   "source": [
    "# 📊 Evaluation\n",
    "accuracy = accuracy_score(data['Podium'], data['PredictedPodium'])\n",
    "f1 = f1_score(data['Podium'], data['PredictedPodium'])\n",
    "precision = precision_score(data['Podium'], data['PredictedPodium'])\n",
    "recall = recall_score(data['Podium'], data['PredictedPodium'])\n",
    "\n",
    "print(f\"Accuracy: {accuracy:.2f}\")\n",
    "print(f\"F1 Score: {f1:.2f}\")\n",
    "print(f\"Precision@3: {precision:.2f}\")\n",
    "print(f\"Recall: {recall:.2f}\")"
   ]
  },
  {
   "cell_type": "code",
   "execution_count": null,
   "id": "adb95f87",
   "metadata": {},
   "outputs": [],
   "source": [
    "# 💾 Save Results to JSON (Safe path)\n",
    "import os\n",
    "import json\n",
    "\n",
    "# Define safe base path\n",
    "BASE_DIR = os.path.abspath(os.path.join(os.getcwd(), '..', '..'))\n",
    "output_dir = os.path.join(BASE_DIR, 'reports', 'v0_1_0')\n",
    "os.makedirs(output_dir, exist_ok=True)\n",
    "\n",
    "output_path = os.path.join(output_dir, 'baseline_metrics.json')\n",
    "\n",
    "# Save\n",
    "with open(output_path, 'w') as f:\n",
    "    json.dump(metrics, f, indent=4)\n",
    "\n",
    "print(f\"✅ Metrics saved to {output_path}\")"
   ]
  }
 ],
 "metadata": {
  "kernelspec": {
   "display_name": "Python 3",
   "name": "python3"
  },
  "language_info": {
   "name": "python",
   "version": "3.x"
  }
 },
 "nbformat": 4,
 "nbformat_minor": 5
}
